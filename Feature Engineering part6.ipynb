{
 "cells": [
  {
   "cell_type": "code",
   "execution_count": null,
   "id": "4aebf438-6a7c-42aa-a74e-fa2b2a80232d",
   "metadata": {},
   "outputs": [],
   "source": [
    "Q1. Pearson correlation coefficient is a measure of the linear relationship between two variables. Suppose\n",
    "you have collected data on the amount of time students spend studying for an exam and their final exam\n",
    "scores. Calculate the Pearson correlation coefficient between these two variables and interpret the result.\n",
    "\n",
    "To calculate the Pearson correlation coefficient (r) between the amount of time students spend studying for an exam (X) and their final exam scores (Y), you need to follow these steps:\n",
    "\n",
    "Calculate the mean (x̄) and standard deviation (s(X)) for the amount of time students spend studying.\n",
    "Calculate the mean (Ȳ) and standard deviation (s(Y)) for the final exam scores.\n",
    "Calculate the covariance (Cov(X,Y)) between the time spent studying and final exam scores.\n",
    "Use the formula for r: \n",
    "     r = Cov(X,Y)/s(X).s(Y)\n",
    "Now, let's interpret the result:\n",
    "  If r is close to 1, it suggests a strong positive linear relationship. In the context of your example, this would mean that students who spend more time studying tend to have higher final exam scores.\n",
    "  If r is close to -1, it suggests a strong negative linear relationship. In your context, this would mean that as the time spent studying increases, final exam scores tend to decrease.\n",
    "  If r is close to 0, it suggests little to no linear relationship between the time spent studying and the final exam scores. This implies that the amount of time spent studying is not a good predictor of the final exam scores or that there may be a non-linear relationship."
   ]
  },
  {
   "cell_type": "code",
   "execution_count": 6,
   "id": "004ddb64-ea0b-4894-be7c-5e913ec522fa",
   "metadata": {},
   "outputs": [
    {
     "name": "stdout",
     "output_type": "stream",
     "text": [
      "Pearson Correlation Coefficient: 0.9766256247910055\n"
     ]
    }
   ],
   "source": [
    "import numpy as np\n",
    "from scipy.stats import pearsonr\n",
    "\n",
    "# Hypothetical data\n",
    "study_time = np.array([10, 12, 8, 15, 7, 11, 9, 14, 13, 10])\n",
    "exam_scores = np.array([85, 88, 78, 92, 75, 86, 80, 91, 89, 84])\n",
    "\n",
    "# Calculate Pearson correlation coefficient\n",
    "correlation_coefficient, _ = pearsonr(study_time, exam_scores)\n",
    "\n",
    "print(f\"Pearson Correlation Coefficient: {correlation_coefficient}\")"
   ]
  },
  {
   "cell_type": "code",
   "execution_count": null,
   "id": "a7a6b7f1-41c7-46ca-ad2d-12b0f32b037f",
   "metadata": {},
   "outputs": [],
   "source": [
    "Q2. Spearman's rank correlation is a measure of the monotonic relationship between two variables.\n",
    "Suppose you have collected data on the amount of sleep individuals get each night and their overall job\n",
    "satisfaction level on a scale of 1 to 10. Calculate the Spearman's rank correlation between these two\n",
    "variables and interpret the result.\n",
    "\n",
    "Spearman's rank correlation coefficient (ρ) is a measure of the strength and direction of the monotonic relationship between two variables. It is based on the ranks of the data rather than the actual data values.\n",
    "\n",
    "The formula for Spearman's rank correlation coefficient is as follows:\n",
    "          ρ = 1-((6Σd(i)^2/n(n^2-1))\n",
    "where:\n",
    "   d(i) is the difference between the ranks of corresponding pairs of variables,\n",
    "   n is the number of pairs of data.\n",
    "Here's how you can calculate it for your example:\n",
    "1.Rank the data for both variables (amount of sleep and job satisfaction).\n",
    "2.Calculate the differences (d(i)) between the ranks for each pair.\n",
    "3.Square each of these differences and sum them up.\n",
    "4.Substitute the values into the formula.\n",
    "Now, let's interpret the result:\n",
    "  If ρ=1, it indicates a perfect monotonic positive relationship. In the context of your example, this would mean that as the amount of sleep individuals get each night increases, their job satisfaction level also consistently increases.\n",
    "  If ρ=−1, it indicates a perfect monotonic negative relationship. This would mean that as the amount of sleep increases, job satisfaction consistently decreases.\n",
    "  If ρ=0, it indicates no monotonic relationship between the two variables.\n",
    "  If ρ is close to 1 or -1, it suggests a strong monotonic relationship, and the sign indicates the direction (positive or negative) of the relationship."
   ]
  },
  {
   "cell_type": "code",
   "execution_count": 7,
   "id": "35c702b6-0689-41b7-8713-4239e9c5ad42",
   "metadata": {},
   "outputs": [
    {
     "name": "stdout",
     "output_type": "stream",
     "text": [
      "Spearman's Rank Correlation Coefficient: 1.0\n"
     ]
    }
   ],
   "source": [
    "import numpy as np\n",
    "from scipy.stats import spearmanr\n",
    "\n",
    "# Hypothetical data\n",
    "sleep_hours = np.array([7, 6, 8, 5, 7, 6, 8, 5, 7, 6])\n",
    "job_satisfaction = np.array([8, 7, 9, 6, 8, 7, 9, 6, 8, 7])\n",
    "\n",
    "# Calculate Spearman's rank correlation coefficient\n",
    "correlation_coefficient, _ = spearmanr(sleep_hours, job_satisfaction)\n",
    "\n",
    "print(f\"Spearman's Rank Correlation Coefficient: {correlation_coefficient}\")"
   ]
  },
  {
   "cell_type": "code",
   "execution_count": null,
   "id": "e516d64a-1f70-4798-b483-31a55814624e",
   "metadata": {},
   "outputs": [],
   "source": [
    "Q3. Suppose you are conducting a study to examine the relationship between the number of hours of\n",
    "exercise per week and body mass index (BMI) in a sample of adults. You collected data on both variables\n",
    "for 50 participants. Calculate the Pearson correlation coefficient and the Spearman's rank correlation\n",
    "between these two variables and compare the results."
   ]
  },
  {
   "cell_type": "code",
   "execution_count": 5,
   "id": "266bea13-aacd-4448-ae08-27a69f076597",
   "metadata": {},
   "outputs": [
    {
     "name": "stdout",
     "output_type": "stream",
     "text": [
      "Pearson Correlation Coefficient: 0.9884675267006784\n",
      "Spearman's Rank Correlation Coefficient: 0.9955290588279031\n"
     ]
    }
   ],
   "source": [
    "import numpy as np\n",
    "from scipy.stats import pearsonr, spearmanr\n",
    "\n",
    "# Your data\n",
    "hours_of_exercise = np.array([4, 7, 3, 6, 5, 2, 8, 7, 4, 6, 5, 3, 1, 2, 8, 6, 7, 5, 4, 3, 1, 2, 8, 6, 4, 5, 3, 7, 2, 1, 8, 6, 4, 5, 3, 2, 7, 1, 8, 6, 4, 5, 3, 2, 1, 7, 8, 6, 4, 5])\n",
    "bmi = np.array([25, 29, 24, 28, 26, 22, 30, 28, 25, 27, 26, 24, 21, 23, 31, 27, 29, 26, 25, 24, 20, 22, 30, 28, 25, 26, 24, 29, 23, 21, 31, 27, 25, 26, 24, 22, 29, 20, 31, 27, 25, 26, 24, 22, 21, 30, 31, 28, 25, 26])\n",
    "\n",
    "# Calculate Pearson correlation coefficient\n",
    "pearson_corr, _ = pearsonr(hours_of_exercise, bmi)\n",
    "\n",
    "# Calculate Spearman correlation coefficient\n",
    "spearman_corr, _ = spearmanr(hours_of_exercise, bmi)\n",
    "\n",
    "# Print the results\n",
    "print(f\"Pearson Correlation Coefficient: {pearson_corr}\")\n",
    "print(f\"Spearman's Rank Correlation Coefficient: {spearman_corr}\")"
   ]
  },
  {
   "cell_type": "code",
   "execution_count": null,
   "id": "142e02cd-3780-403e-a7e5-25e1618559c0",
   "metadata": {},
   "outputs": [],
   "source": [
    "Interpretation:\n",
    " The Pearson correlation coefficient measures the strength and direction of the linear relationship between two variables. It ranges from -1 to 1, where -1 indicates a perfect negative linear relationship, 1 indicates a perfect positive linear relationship, and 0 indicates no linear relationship. A positive value suggests that as one variable increases, the other tends to increase, and vice versa.\n",
    "\n",
    " The Spearman's rank correlation coefficient assesses the monotonic relationship between two variables. It is less sensitive to outliers and does not assume a linear relationship. Like the Pearson correlation coefficient, it ranges from -1 to 1, with similar interpretations."
   ]
  },
  {
   "cell_type": "code",
   "execution_count": null,
   "id": "c340474f-4da7-4041-a0f2-b8c9ca107fd8",
   "metadata": {},
   "outputs": [],
   "source": [
    "Q4. A researcher is interested in examining the relationship between the number of hours individuals\n",
    "spend watching television per day and their level of physical activity. The researcher collected data on\n",
    "both variables from a sample of 50 participants. Calculate the Pearson correlation coefficient between\n",
    "these two variables."
   ]
  },
  {
   "cell_type": "code",
   "execution_count": 12,
   "id": "3a7fba70-f49e-4ddd-9031-583bcd0a48e7",
   "metadata": {},
   "outputs": [
    {
     "name": "stdout",
     "output_type": "stream",
     "text": [
      "Pearson Correlation Coefficient: -0.9312403943594377\n"
     ]
    }
   ],
   "source": [
    "import numpy as np\n",
    "from scipy.stats import pearsonr\n",
    "\n",
    "# Hypothetical data\n",
    "tv_hours = np.array([2, 3, 1, 4, 2, 3, 1, 4, 2, 3, 1, 4, 2, 3, 1, 4, 2, 3, 1, 4, 2, 3, 1, 4, 2, 3, 1, 4, 2, 3, 1, 4, 2, 3, 1, 4, 2, 3, 1, 4, 2, 3, 1, 4, 2, 3, 1, 4,5])\n",
    "physical_activity_level = np.array([5, 4, 6, 3, 5, 4, 6, 3, 5, 4, 6, 3, 5, 4, 6, 3, 5, 4, 6, 3, 5, 4, 6, 3, 5, 4, 6, 3, 5, 4, 6, 3, 5, 4, 6, 3, 5, 4, 6, 3, 5, 4, 6, 3, 5, 4, 6, 3, 5])\n",
    "\n",
    "# Calculate Pearson correlation coefficient\n",
    "correlation_coefficient, _ = pearsonr(tv_hours, physical_activity_level)\n",
    "\n",
    "print(f\"Pearson Correlation Coefficient: {correlation_coefficient}\")"
   ]
  },
  {
   "cell_type": "code",
   "execution_count": null,
   "id": "3c70d307-67ad-473b-9886-bd6001cc23e7",
   "metadata": {},
   "outputs": [],
   "source": [
    "Interpret the result in the context of your study to understand the strength and direction of the relationship between the number of hours spent watching television per day and the level of physical activity in your sample."
   ]
  },
  {
   "cell_type": "code",
   "execution_count": null,
   "id": "a9305b4a-75ac-4e55-a06d-038f604ad6f6",
   "metadata": {},
   "outputs": [],
   "source": [
    "Q5. A survey was conducted to examine the relationship between age and preference for a particular\n",
    "brand of soft drink. The survey results are shown below:"
   ]
  },
  {
   "cell_type": "code",
   "execution_count": null,
   "id": "b616c1d4-5319-496d-b12c-25784b69a4d4",
   "metadata": {},
   "outputs": [],
   "source": [
    "ages = [25, 42, 37, 19, 31, 28]\n",
    "soft_drinks = ['Coke', 'Pepsi', 'Mountain Dew', 'Coke', 'Pepsi', 'Coke']"
   ]
  },
  {
   "cell_type": "code",
   "execution_count": 14,
   "id": "d1f3d53f-cfcc-4f59-a113-4afda49846f9",
   "metadata": {},
   "outputs": [
    {
     "name": "stdout",
     "output_type": "stream",
     "text": [
      "Pearson Correlation Coefficient: 0.7587035441865057\n"
     ]
    }
   ],
   "source": [
    "import numpy as np\n",
    "from scipy.stats import pearsonr\n",
    "\n",
    "# Replace with your actual data\n",
    "ages = [25, 42, 37, 19, 31, 28]\n",
    "soft_drinks = ['Coke', 'Pepsi', 'Mountain Dew', 'Coke', 'Pepsi', 'Coke']\n",
    "\n",
    "# Convert soft drink preferences to numerical values for analysis\n",
    "# You might need to replace this mapping based on your actual data\n",
    "soft_drink_mapping = {'Coke': 1, 'Pepsi': 2, 'Mountain Dew': 3}\n",
    "soft_drinks_numerical = [soft_drink_mapping[drink] for drink in soft_drinks]\n",
    "\n",
    "# Calculate Pearson correlation coefficient\n",
    "correlation_coefficient, _ = pearsonr(ages, soft_drinks_numerical)\n",
    "\n",
    "print(f\"Pearson Correlation Coefficient: {correlation_coefficient}\")"
   ]
  },
  {
   "cell_type": "code",
   "execution_count": null,
   "id": "f95e755a-6820-4da9-a459-7f20ecdd3093",
   "metadata": {},
   "outputs": [],
   "source": [
    "The conversion of soft drink preferences to numerical values is arbitrary in this example. You might need to map the soft drink brands to numerical values based on your specific research question or hypothesis.\n",
    "\n",
    "Keep in mind that this example assumes a linear relationship, and it might not be the most suitable method depending on the nature of your data and research question. If soft drink preference is better described as categorical, other statistical methods might be more appropriate, such as chi-square tests or logistic regression."
   ]
  },
  {
   "cell_type": "code",
   "execution_count": null,
   "id": "6983b30f-2c03-4bef-98c0-7888f4515d0f",
   "metadata": {},
   "outputs": [],
   "source": [
    "Q6. A company is interested in examining the relationship between the number of sales calls made per day\n",
    "and the number of sales made per week. The company collected data on both variables from a sample of\n",
    "30 sales representatives. Calculate the Pearson correlation coefficient between these two variables.\n"
   ]
  },
  {
   "cell_type": "code",
   "execution_count": 18,
   "id": "ebafbd1a-de0e-4817-a949-0bba2a418b58",
   "metadata": {},
   "outputs": [
    {
     "name": "stdout",
     "output_type": "stream",
     "text": [
      "Pearson Correlation Coefficient: 0.37654758180750186\n"
     ]
    }
   ],
   "source": [
    "import numpy as np\n",
    "from scipy.stats import pearsonr\n",
    "\n",
    "# Replace with your actual data\n",
    "sales_calls = np.array([3,7,5,1,8,3,9,4,5,2])  # Insert your data for sales calls per day\n",
    "sales_per_week = np.array([546,672,123,556,907,332,412,330,879,144])  # Insert your data for sales per week\n",
    "\n",
    "# Calculate Pearson correlation coefficient\n",
    "correlation_coefficient, _ = pearsonr(sales_calls, sales_per_week)\n",
    "\n",
    "print(f\"Pearson Correlation Coefficient: {correlation_coefficient}\")"
   ]
  },
  {
   "cell_type": "code",
   "execution_count": null,
   "id": "16611001-cff3-400d-ac42-f8856494838e",
   "metadata": {},
   "outputs": [],
   "source": [
    "The result will be a number between -1 and 1. \n",
    "A positive value indicates a positive correlation (as the number of sales calls increases, the number of sales per week tends to increase), a negative value indicates a negative correlation (as the number of sales calls increases, the number of sales per week tends to decrease), and 0 suggests no linear correlation.\n",
    "\n",
    "Interpret the result in the context of your study to understand the strength and direction of the relationship between the number of sales calls made per day and the number of sales made per week in your sample. \n",
    "Keep in mind that correlation does not imply causation, and other factors may influence the observed relationship."
   ]
  },
  {
   "cell_type": "code",
   "execution_count": null,
   "id": "761becd8-8dee-4c64-a076-5de7c25a23cf",
   "metadata": {},
   "outputs": [],
   "source": []
  }
 ],
 "metadata": {
  "kernelspec": {
   "display_name": "Python 3 (ipykernel)",
   "language": "python",
   "name": "python3"
  },
  "language_info": {
   "codemirror_mode": {
    "name": "ipython",
    "version": 3
   },
   "file_extension": ".py",
   "mimetype": "text/x-python",
   "name": "python",
   "nbconvert_exporter": "python",
   "pygments_lexer": "ipython3",
   "version": "3.10.8"
  }
 },
 "nbformat": 4,
 "nbformat_minor": 5
}
